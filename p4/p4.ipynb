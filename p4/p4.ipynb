{
 "cells": [
  {
   "cell_type": "code",
   "execution_count": 46,
   "metadata": {},
   "outputs": [],
   "source": [
    "import math\n",
    "import pandas as pd"
   ]
  },
  {
   "cell_type": "code",
   "execution_count": 47,
   "metadata": {},
   "outputs": [
    {
     "data": {
      "text/html": [
       "<div>\n",
       "<style scoped>\n",
       "    .dataframe tbody tr th:only-of-type {\n",
       "        vertical-align: middle;\n",
       "    }\n",
       "\n",
       "    .dataframe tbody tr th {\n",
       "        vertical-align: top;\n",
       "    }\n",
       "\n",
       "    .dataframe thead th {\n",
       "        text-align: right;\n",
       "    }\n",
       "</style>\n",
       "<table border=\"1\" class=\"dataframe\">\n",
       "  <thead>\n",
       "    <tr style=\"text-align: right;\">\n",
       "      <th></th>\n",
       "      <th>Question</th>\n",
       "      <th>Answer</th>\n",
       "    </tr>\n",
       "  </thead>\n",
       "  <tbody>\n",
       "    <tr>\n",
       "      <th>0</th>\n",
       "      <td>When did the Department of Computer Engineerin...</td>\n",
       "      <td>The Department of Computer Engineering start I...</td>\n",
       "    </tr>\n",
       "    <tr>\n",
       "      <th>1</th>\n",
       "      <td>In which Faculty does the Department of Comput...</td>\n",
       "      <td>The Department of Computer Engineering works i...</td>\n",
       "    </tr>\n",
       "    <tr>\n",
       "      <th>2</th>\n",
       "      <td>Where is the office of the Department of Compu...</td>\n",
       "      <td>In the Faculty of Engineering and Technology, ...</td>\n",
       "    </tr>\n",
       "    <tr>\n",
       "      <th>3</th>\n",
       "      <td>When was the Faculty of Engineering and Techno...</td>\n",
       "      <td>The Faculty of Engineering and Technology (FET...</td>\n",
       "    </tr>\n",
       "    <tr>\n",
       "      <th>4</th>\n",
       "      <td>What are the courses offered in FET?</td>\n",
       "      <td>Courses offered in FET are BTech, MTech, MSc a...</td>\n",
       "    </tr>\n",
       "    <tr>\n",
       "      <th>5</th>\n",
       "      <td>What are the branches in BTech?</td>\n",
       "      <td>Branches in BTech are Computer Engineering, El...</td>\n",
       "    </tr>\n",
       "    <tr>\n",
       "      <th>6</th>\n",
       "      <td>What is the vision of the Department of Comput...</td>\n",
       "      <td>To produce excellent professionals and innovat...</td>\n",
       "    </tr>\n",
       "  </tbody>\n",
       "</table>\n",
       "</div>"
      ],
      "text/plain": [
       "                                            Question  \\\n",
       "0  When did the Department of Computer Engineerin...   \n",
       "1  In which Faculty does the Department of Comput...   \n",
       "2  Where is the office of the Department of Compu...   \n",
       "3  When was the Faculty of Engineering and Techno...   \n",
       "4               What are the courses offered in FET?   \n",
       "5                    What are the branches in BTech?   \n",
       "6  What is the vision of the Department of Comput...   \n",
       "\n",
       "                                              Answer  \n",
       "0  The Department of Computer Engineering start I...  \n",
       "1  The Department of Computer Engineering works i...  \n",
       "2  In the Faculty of Engineering and Technology, ...  \n",
       "3  The Faculty of Engineering and Technology (FET...  \n",
       "4  Courses offered in FET are BTech, MTech, MSc a...  \n",
       "5  Branches in BTech are Computer Engineering, El...  \n",
       "6  To produce excellent professionals and innovat...  "
      ]
     },
     "execution_count": 47,
     "metadata": {},
     "output_type": "execute_result"
    }
   ],
   "source": [
    "csv_data = pd.read_csv('database.csv')\n",
    "# read values of Questions and Answers\n",
    "questions = csv_data['Question']\n",
    "answers = csv_data['Answer']\n",
    "csv_data"
   ]
  },
  {
   "cell_type": "code",
   "execution_count": 48,
   "metadata": {},
   "outputs": [
    {
     "data": {
      "text/plain": [
       "['when did department computer engineering start',\n",
       " 'which faculty does department computer engineering work',\n",
       " 'where is office department computer engineering',\n",
       " 'when was faculty engineering technology fet formed',\n",
       " 'what are courses offered fet',\n",
       " 'what are branches btech',\n",
       " 'what is vision department computer engineering']"
      ]
     },
     "execution_count": 48,
     "metadata": {},
     "output_type": "execute_result"
    }
   ],
   "source": [
    "# lowercasing and removing punctuation\n",
    "def preprocess_text(text):\n",
    "    text = text.lower()\n",
    "    text = ''.join([c for c in text if c.isalnum() or c.isspace()])\n",
    "    return text\n",
    "\n",
    "# some list of stop words\n",
    "stop_words = [\"a\", \"an\", \"and\", \"the\", \"in\", \"on\", \"of\", \"to\", \"for\", \"with\"]\n",
    "\n",
    "# Remove stop words\n",
    "def remove_stop_words(text):\n",
    "    words = text.split()\n",
    "    words = [word for word in words if word not in stop_words]\n",
    "    # join them into a sentence\n",
    "    return ' '.join(words)\n"
   ]
  },
  {
   "cell_type": "code",
   "execution_count": 49,
   "metadata": {},
   "outputs": [],
   "source": [
    "def cosine_similarity(vector_a, vector_b):\n",
    "    # calculating the unit vectors of a and b (squaring and summing)    \n",
    "    norm_a = math.sqrt(sum(vector_a[word] ** 2 for word in vector_a))\n",
    "    norm_b = math.sqrt(sum(vector_b[word] ** 2 for word in vector_b))\n",
    "    \n",
    "    if (norm_a == 0 or norm_b == 0):\n",
    "        return 0\n",
    "    # for each of the frequencies in vector_a multiply with each of the corresponding frequency of the word in vector_b\n",
    "    dot_product = sum(vector_a[word] * vector_b.get(word, 0) for word in vector_a)\n",
    "    similarity = dot_product / (norm_a * norm_b)\n",
    "    return similarity"
   ]
  },
  {
   "cell_type": "code",
   "execution_count": 50,
   "metadata": {},
   "outputs": [],
   "source": [
    "# Calculate TF (Term Frequency), number of times a word occurs in a text\n",
    "def calculate_tf(text):\n",
    "    words = text.split()\n",
    "    tf_dict = {}\n",
    "    for word in words:\n",
    "        if word in tf_dict:\n",
    "            tf_dict[word] += 1\n",
    "        else:\n",
    "            tf_dict[word] = 1\n",
    "    return tf_dict\n",
    "\n",
    "# Calculate IDF (Inverse Document Frequency)\n",
    "def calculate_idf(corpus, word):\n",
    "    num_documents_with_word = sum(1 for document in corpus if word in document)\n",
    "    return math.log(len(corpus) / (1 + num_documents_with_word))\n",
    "\n",
    "# Calculate TF-IDF\n",
    "def calculate_tfidf(tf, idf):\n",
    "    tfidf = {}\n",
    "    for word, freq in tf.items():\n",
    "        tfidf[word] = freq * idf[word]\n",
    "    return tfidf"
   ]
  },
  {
   "cell_type": "code",
   "execution_count": 51,
   "metadata": {},
   "outputs": [],
   "source": [
    "# Take user input\n",
    "user_input = input(\"Enter your question: \")\n",
    "preprocessed_user_input = preprocess_text(user_input)\n",
    "preprocessed_user_input = remove_stop_words(preprocessed_user_input)"
   ]
  },
  {
   "cell_type": "code",
   "execution_count": 52,
   "metadata": {},
   "outputs": [
    {
     "name": "stdout",
     "output_type": "stream",
     "text": [
      "Question:  Courses in FET?\n",
      "Closest Answer: Courses offered in FET are BTech, MTech, MSc and PhD\n"
     ]
    }
   ],
   "source": [
    "# Preprocess and calculate TF-IDF for user input\n",
    "preprocessed_user_input_tf = calculate_tf(preprocessed_user_input)\n",
    "preprocessed_user_input_idf = {word: calculate_idf(questions, word) for word in preprocessed_user_input_tf}\n",
    "preprocessed_user_input_tfidf = calculate_tfidf(preprocessed_user_input_tf, preprocessed_user_input_idf)\n",
    "\n",
    "# Calculate cosine similarities and find closest answer\n",
    "max_similarity = -1\n",
    "closest_answer = \"\"\n",
    "\n",
    "#  for each of the questions check similarity by cosine similarity\n",
    "for idx, question in enumerate(questions):\n",
    "    preprocessed_question = preprocess_text(question)\n",
    "    preprocessed_question_tf = calculate_tf(preprocessed_question)\n",
    "    preprocessed_question_idf = {word: calculate_idf(questions, word) for word in preprocessed_question_tf}\n",
    "    preprocessed_question_tfidf = calculate_tfidf(preprocessed_question_tf, preprocessed_question_idf)\n",
    "    \n",
    "    similarity = cosine_similarity(preprocessed_user_input_tfidf, preprocessed_question_tfidf)\n",
    "    \n",
    "    if similarity > max_similarity:\n",
    "        max_similarity = similarity\n",
    "        closest_answer = answers[idx]\n",
    "\n",
    "print(\"Question: \", user_input)\n",
    "print(\"Closest Answer:\", closest_answer)"
   ]
  }
 ],
 "metadata": {
  "kernelspec": {
   "display_name": "Python 3",
   "language": "python",
   "name": "python3"
  },
  "language_info": {
   "codemirror_mode": {
    "name": "ipython",
    "version": 3
   },
   "file_extension": ".py",
   "mimetype": "text/x-python",
   "name": "python",
   "nbconvert_exporter": "python",
   "pygments_lexer": "ipython3",
   "version": "3.9.13"
  },
  "orig_nbformat": 4
 },
 "nbformat": 4,
 "nbformat_minor": 2
}
