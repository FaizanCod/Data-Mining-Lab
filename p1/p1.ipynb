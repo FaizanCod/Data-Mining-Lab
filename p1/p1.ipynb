{
 "cells": [
  {
   "cell_type": "markdown",
   "metadata": {},
   "source": [
    "Read a text file and find out the frequency of words"
   ]
  },
  {
   "cell_type": "code",
   "execution_count": 7,
   "metadata": {},
   "outputs": [
    {
     "name": "stdout",
     "output_type": "stream",
     "text": [
      "{'Text': 2, 'mining': 5, 'helps': 1, 'companies': 1, 'automate': 1, 'the': 8, 'process': 3, 'of': 5, 'classifying': 1, 'text.': 1, 'The': 1, 'classification': 1, 'could': 1, 'be': 4, 'based': 1, 'on': 1, 'several': 1, 'attributes,': 1, 'including': 1, 'topic,': 1, 'intent,': 1, 'sentiment,': 1, 'and': 6, 'language.': 1, 'Many': 1, 'manual': 1, 'tedious': 2, 'tasks': 1, 'can': 5, 'eliminated': 1, 'with': 3, 'help': 1, 'text': 5, 'mining.': 2, 'Suppose': 1, 'you': 4, 'need': 1, 'to': 8, 'understand': 1, 'how': 1, 'customers': 2, 'feel': 1, 'about': 1, 'a': 2, 'software': 1, 'application': 1, 'offer.': 1, 'Of': 1, 'course,': 1, 'manually': 1, 'go': 2, 'through': 1, 'user': 1, 'reviews,': 2, 'but': 1, 'if': 1, 'there': 1, 'are': 2, 'thousands': 1, 'becomes': 1, 'time-consuming.': 1, 'makes': 1, 'it': 2, 'quick': 1, 'easy': 1, 'analyze': 1, 'large': 1, 'complex': 1, 'data': 2, 'sets': 1, 'derive': 1, 'relevant': 2, 'information': 1, 'from': 1, 'them.': 1, 'In': 1, 'this': 1, 'case,': 1, 'enables': 1, 'identify': 3, 'general': 1, 'sentiment': 2, 'product.': 1, 'This': 1, 'determining': 1, 'whether': 1, 'reviews': 1, 'positive,': 1, 'negative,': 1, 'or': 7, 'neutral': 1, 'is': 1, 'called': 1, 'analysis': 1, 'opinion': 1, 'Further,': 1, 'used': 1, 'determine': 1, 'what': 2, 'users': 1, 'like': 1, 'dislike': 1, 'they': 1, 'want': 1, 'included': 1, 'in': 2, 'next': 1, 'update.': 1, 'You': 1, 'also': 1, 'use': 3, 'keywords': 1, 'association': 1, 'certain': 1, 'products': 1, 'topics.': 1, 'Organizations': 1, 'tools': 1, 'dig': 1, 'deeper': 1, 'into': 1, 'business': 1, 'insights': 1, 'discover': 1, 'interrelationships': 1, 'within': 1, 'texts': 1, 'that': 1, 'would': 1, 'otherwise': 1, 'undetected': 1, 'search': 1, 'engines': 1, 'traditional': 1, 'applications.': 1}\n"
     ]
    }
   ],
   "source": [
    "file = open('p1.txt', 'r')\n",
    "lines = ''.join(line for line in file.read().splitlines())\n",
    "words = lines.split(' ')\n",
    "freq = {}\n",
    "for word in words:\n",
    "    if word not in freq:\n",
    "        freq[word] = 1\n",
    "    else:\n",
    "        freq[word] += 1\n",
    "file.close()\n",
    "print(freq)"
   ]
  }
 ],
 "metadata": {
  "kernelspec": {
   "display_name": "Python 3",
   "language": "python",
   "name": "python3"
  },
  "language_info": {
   "codemirror_mode": {
    "name": "ipython",
    "version": 3
   },
   "file_extension": ".py",
   "mimetype": "text/x-python",
   "name": "python",
   "nbconvert_exporter": "python",
   "pygments_lexer": "ipython3",
   "version": "3.9.13"
  },
  "orig_nbformat": 4
 },
 "nbformat": 4,
 "nbformat_minor": 2
}
