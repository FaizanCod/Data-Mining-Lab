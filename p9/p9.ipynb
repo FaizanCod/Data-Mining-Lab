{
 "cells": [
  {
   "cell_type": "code",
   "execution_count": 1,
   "id": "8b2f3015",
   "metadata": {},
   "outputs": [],
   "source": [
    "import numpy as np\n",
    "import matplotlib.pyplot as plt"
   ]
  },
  {
   "cell_type": "code",
   "execution_count": 10,
   "id": "0a3f9af3",
   "metadata": {},
   "outputs": [],
   "source": [
    "import random\n",
    "\n",
    "# Number of data points\n",
    "num_points = 100\n",
    "\n",
    "# Generate random data points\n",
    "data_points = {i + 1: (random.uniform(1, 10), random.uniform(1, 10)) for i in range(num_points)}"
   ]
  },
  {
   "cell_type": "code",
   "execution_count": 11,
   "id": "6075b7e4",
   "metadata": {},
   "outputs": [
    {
     "data": {
      "text/plain": [
       "<matplotlib.collections.PathCollection at 0x14fd59837c0>"
      ]
     },
     "execution_count": 11,
     "metadata": {},
     "output_type": "execute_result"
    },
    {
     "data": {
      "image/png": "[encoded data removed]",
      "text/plain": [
       "<Figure size 432x288 with 1 Axes>"
      ]
     },
     "metadata": {
      "needs_background": "light"
     },
     "output_type": "display_data"
    }
   ],
   "source": [
    "xs = [x for x,_ in data_points.values()]\n",
    "ys = [y for _,y in data_points.values()]\n",
    "plt.scatter(xs,ys)"
   ]
  },
  {
   "cell_type": "code",
   "execution_count": 4,
   "id": "dc8d20b4",
   "metadata": {},
   "outputs": [
    {
     "data": {
      "text/plain": [
       "{1: (7.79075531850164, 9.682520454244916),\n",
       " 2: (3.18336492377123, 2.555473464174209),\n",
       " 3: (3.301638066456686, 6.626223711405627),\n",
       " 4: (1.2246475241245052, 8.387562987203985),\n",
       " 5: (9.807723981693158, 4.035287875807311),\n",
       " 6: (1.5825345461582532, 5.678708251858512),\n",
       " 7: (5.150108510786445, 5.337204096243841),\n",
       " 8: (2.919459698499988, 5.994914792493913),\n",
       " 9: (2.941098409228669, 8.907806722693312),\n",
       " 10: (6.61950597502458, 9.73869448511601),\n",
       " 11: (3.615824269148346, 5.979846436592315),\n",
       " 12: (6.425170322485039, 4.275356625153177),\n",
       " 13: (8.150174596826162, 6.764276567809847),\n",
       " 14: (9.299697623461888, 7.532430672541988),\n",
       " 15: (4.360648818836585, 5.528940501588942),\n",
       " 16: (9.652373399641911, 6.111811835409771),\n",
       " 17: (3.5296190388176476, 3.525368990472062),\n",
       " 18: (4.7949307931829335, 1.4388012055713868),\n",
       " 19: (9.783843035114941, 2.6232777157268083),\n",
       " 20: (8.955445834710954, 1.7911391844279771)}"
      ]
     },
     "execution_count": 4,
     "metadata": {},
     "output_type": "execute_result"
    }
   ],
   "source": [
    "data_points"
   ]
  },
  {
   "cell_type": "code",
   "execution_count": 5,
   "id": "b561ebfc",
   "metadata": {},
   "outputs": [],
   "source": [
    "import math\n",
    "\n",
    "def euclidean_distance(point1, point2):\n",
    "    x1, y1 = point1\n",
    "    x2, y2 = point2\n",
    "    distance = math.sqrt((float(x2) - x1)**2 + (y2 - y1)**2)\n",
    "    return round(distance,2)\n",
    "\n",
    "def compute_centroid(pts):\n",
    "    xs = [data_points[p][0] for p in pts]\n",
    "    ys = [data_points[p][1] for p in pts]\n",
    "    \n",
    "    mean_x = float(sum(xs))/len(xs)\n",
    "    mean_y = float(sum(ys))/len(ys)\n",
    "    \n",
    "    return (mean_x, mean_y)"
   ]
  },
  {
   "cell_type": "code",
   "execution_count": 6,
   "id": "0144dd9d",
   "metadata": {},
   "outputs": [],
   "source": [
    "def join(cluster, points):\n",
    "    for p in points:\n",
    "        if type(p) == int:\n",
    "            cluster.append(p)\n",
    "        else:\n",
    "            cluster.extend(p)\n",
    "    return cluster"
   ]
  },
  {
   "cell_type": "code",
   "execution_count": 7,
   "id": "43ca2eb0",
   "metadata": {},
   "outputs": [],
   "source": [
    "def compute_proximity_vals(data):\n",
    "    n = len(data.keys())\n",
    "    clusters = list(data.keys())\n",
    "    pq = []\n",
    "    for i in range(n):\n",
    "        for j in range(i+1, n):\n",
    "            c1, c2 = clusters[i], clusters[j]\n",
    "            p1 = data[c1]\n",
    "            p2 = data[c2]\n",
    "            heappush(pq, (euclidean_distance(p1,p2), [c1,c2]))\n",
    "    return pq"
   ]
  },
  {
   "cell_type": "code",
   "execution_count": 8,
   "id": "bf97d800",
   "metadata": {},
   "outputs": [],
   "source": [
    "from heapq import heappush, heappop\n",
    "\n",
    "def get_clusters(data):\n",
    "    \n",
    "    prox_vals = compute_proximity_vals(data)\n",
    "    min_d, pts = heappop(prox_vals)\n",
    "    joined_cs = [p for p in pts]\n",
    "    new_cluster = join([], pts)\n",
    "#     print(prox_vals)\n",
    "    if len(prox_vals) != 0:\n",
    "        while min_d == prox_vals[0][0]:\n",
    "            _, pts = heappop(prox_vals)\n",
    "            new_cluster = join(new_cluster, pts)\n",
    "            joined_cs.extend(pts)\n",
    "    \n",
    "    print(\"joined\", joined_cs)\n",
    "    cluster_center = compute_centroid(new_cluster)\n",
    "    new_data = {k:v for k,v in data.items() if k not in joined_cs}\n",
    "    new_data[tuple(new_cluster)] = cluster_center\n",
    "    \n",
    "    return new_data"
   ]
  },
  {
   "cell_type": "code",
   "execution_count": 9,
   "id": "d8672738",
   "metadata": {},
   "outputs": [
    {
     "name": "stdout",
     "output_type": "stream",
     "text": [
      "joined [8, 11]\n",
      "current_clusters: [1, 2, 3, 4, 5, 6, 7, 9, 10, 12, 13, 14, 15, 16, 17, 18, 19, 20, (8, 11)]\n",
      "joined [3, (8, 11)]\n",
      "current_clusters: [1, 2, 4, 5, 6, 7, 9, 10, 12, 13, 14, 15, 16, 17, 18, 19, 20, (3, 8, 11)]\n",
      "joined [7, 15]\n",
      "current_clusters: [1, 2, 4, 5, 6, 9, 10, 12, 13, 14, 16, 17, 18, 19, 20, (3, 8, 11), (7, 15)]\n",
      "joined [2, 17]\n",
      "current_clusters: [1, 4, 5, 6, 9, 10, 12, 13, 14, 16, 18, 19, 20, (3, 8, 11), (7, 15), (2, 17)]\n",
      "joined [1, 10, 19, 20]\n",
      "current_clusters: [4, 5, 6, 9, 12, 13, 14, 16, 18, (3, 8, 11), (7, 15), (2, 17), (1, 10, 19, 20)]\n",
      "joined [13, (1, 10, 19, 20)]\n",
      "current_clusters: [4, 5, 6, 9, 12, 14, 16, 18, (3, 8, 11), (7, 15), (2, 17), (13, 1, 10, 19, 20)]\n",
      "joined [16, (13, 1, 10, 19, 20)]\n",
      "current_clusters: [4, 5, 6, 9, 12, 14, 18, (3, 8, 11), (7, 15), (2, 17), (16, 13, 1, 10, 19, 20)]\n",
      "joined [14, (16, 13, 1, 10, 19, 20)]\n",
      "current_clusters: [4, 5, 6, 9, 12, 18, (3, 8, 11), (7, 15), (2, 17), (14, 16, 13, 1, 10, 19, 20)]\n",
      "joined [(3, 8, 11), (7, 15)]\n",
      "current_clusters: [4, 5, 6, 9, 12, 18, (2, 17), (14, 16, 13, 1, 10, 19, 20), (3, 8, 11, 7, 15)]\n",
      "joined [4, 9]\n",
      "current_clusters: [5, 6, 12, 18, (2, 17), (14, 16, 13, 1, 10, 19, 20), (3, 8, 11, 7, 15), (4, 9)]\n",
      "joined [18, (2, 17)]\n",
      "current_clusters: [5, 6, 12, (14, 16, 13, 1, 10, 19, 20), (3, 8, 11, 7, 15), (4, 9), (18, 2, 17)]\n",
      "joined [6, (3, 8, 11, 7, 15)]\n",
      "current_clusters: [5, 12, (14, 16, 13, 1, 10, 19, 20), (4, 9), (18, 2, 17), (6, 3, 8, 11, 7, 15)]\n",
      "joined [5, (14, 16, 13, 1, 10, 19, 20)]\n",
      "current_clusters: [12, (4, 9), (18, 2, 17), (6, 3, 8, 11, 7, 15), (5, 14, 16, 13, 1, 10, 19, 20)]\n",
      "joined [12, (5, 14, 16, 13, 1, 10, 19, 20)]\n",
      "current_clusters: [(4, 9), (18, 2, 17), (6, 3, 8, 11, 7, 15), (12, 5, 14, 16, 13, 1, 10, 19, 20)]\n",
      "joined [(4, 9), (6, 3, 8, 11, 7, 15)]\n",
      "current_clusters: [(18, 2, 17), (12, 5, 14, 16, 13, 1, 10, 19, 20), (4, 9, 6, 3, 8, 11, 7, 15)]\n",
      "joined [(18, 2, 17), (4, 9, 6, 3, 8, 11, 7, 15)]\n",
      "current_clusters: [(12, 5, 14, 16, 13, 1, 10, 19, 20), (18, 2, 17, 4, 9, 6, 3, 8, 11, 7, 15)]\n",
      "joined [(12, 5, 14, 16, 13, 1, 10, 19, 20), (18, 2, 17, 4, 9, 6, 3, 8, 11, 7, 15)]\n",
      "current_clusters: [(12, 5, 14, 16, 13, 1, 10, 19, 20, 18, 2, 17, 4, 9, 6, 3, 8, 11, 7, 15)]\n"
     ]
    }
   ],
   "source": [
    "clusters = []\n",
    "current_clusters = {(k): v for k, v in data_points.items()}\n",
    "clusters.append(current_clusters)\n",
    "# print(\"clusters:\\n\", current_clusters)\n",
    "while len(current_clusters.keys()) != 1:\n",
    "    current_clusters = get_clusters(current_clusters)\n",
    "    print(\"current_clusters:\",list(current_clusters.keys()))\n",
    "    \n",
    "    clusters.append(current_clusters)"
   ]
  },
  {
   "cell_type": "code",
   "execution_count": null,
   "id": "486dd24c",
   "metadata": {},
   "outputs": [],
   "source": []
  }
 ],
 "metadata": {
  "kernelspec": {
   "display_name": "Python 3 (ipykernel)",
   "language": "python",
   "name": "python3"
  },
  "language_info": {
   "codemirror_mode": {
    "name": "ipython",
    "version": 3
   },
   "file_extension": ".py",
   "mimetype": "text/x-python",
   "name": "python",
   "nbconvert_exporter": "python",
   "pygments_lexer": "ipython3",
   "version": "3.9.13"
  }
 },
 "nbformat": 4,
 "nbformat_minor": 5
}
