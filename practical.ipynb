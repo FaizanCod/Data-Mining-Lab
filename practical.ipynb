{
 "cells": [
  {
   "cell_type": "code",
   "execution_count": 1,
   "metadata": {},
   "outputs": [],
   "source": [
    "import numpy as np\n",
    "\n",
    "# Design and implement the k-means algorithm on the following dataset\n",
    "# The clusters have constraints in which cluster 1 can accomodate only 3 points and cluster 2 only 5 points. The algorithm should shift all extra points to the next cluster\n",
    "# based on the distance metrics used. Use minowski distance with p=3 as the distance metrics.\n",
    "\n",
    "# (2,3,5), (3,4,6), (4,3,5), (5,4,6), (6,3,5), (8,7,9), (9,8,10), (10,7,9), (11,8,10), (12,7,9), (5,5,2), (6,5,2), (5,6,3), (6,6,3), (7,6,2)\n"
   ]
  },
  {
   "cell_type": "code",
   "execution_count": 2,
   "metadata": {},
   "outputs": [],
   "source": [
    "def minowski_distance(point1, point2, p):\n",
    "    return np.sum(np.abs(point1 - point2) ** p) ** (1/p)\n",
    "\n",
    "def k_means(points, k, constraints, p=3, max_iterations=100):\n",
    "    # Initialize k centroids randomly\n",
    "    centroids = points[np.random.choice(len(points), k, replace=False)]\n",
    "    # print(f'Centroids: {centroids}')\n",
    "\n",
    "    for _ in range(max_iterations):\n",
    "    # Initialize clusters with empty lists\n",
    "        clusters = [[] for _ in range(k)]\n",
    "\n",
    "        # Assign each point to the nearest centroid\n",
    "        for point in points:\n",
    "            # finding the distance of each point from the k centroids\n",
    "            distances = [minowski_distance(point, centroid, p) for centroid in centroids]\n",
    "            closest_centroid_idx = np.argmin(distances)\n",
    "            \n",
    "            # Check constraints and shift points if necessary\n",
    "            if len(clusters[closest_centroid_idx]) >= constraints[closest_centroid_idx]:\n",
    "                distances[closest_centroid_idx] = np.inf\n",
    "                closest_centroid_idx = np.argmin(distances)\n",
    "            \n",
    "            clusters[closest_centroid_idx].append(point)\n",
    "\n",
    "        # Update in new_centroids\n",
    "        new_centroids = np.zeros((k, points.shape[1]))\n",
    "        for i in range(k):\n",
    "            new_centroids[i] = np.mean(clusters[i], axis=0)\n",
    "\n",
    "        # if centroids are converged\n",
    "        if np.allclose(centroids, new_centroids):\n",
    "            break\n",
    "        \n",
    "        centroids = new_centroids\n",
    "\n",
    "    return clusters, centroids\n"
   ]
  },
  {
   "cell_type": "code",
   "execution_count": 3,
   "metadata": {},
   "outputs": [
    {
     "name": "stdout",
     "output_type": "stream",
     "text": [
      "Cluster 1: [array([3, 4, 6]), array([5, 4, 6])]\n",
      "Cluster 2: [array([5, 5, 2]), array([6, 5, 2]), array([5, 6, 3]), array([6, 6, 3]), array([7, 6, 2])]\n",
      "Cluster 3: [array([2, 3, 5]), array([4, 3, 5]), array([6, 3, 5])]\n",
      "Cluster 4: [array([8, 7, 9]), array([ 9,  8, 10]), array([10,  7,  9]), array([11,  8, 10]), array([12,  7,  9])]\n",
      "Centroid 1: [4. 4. 6.]\n",
      "Centroid 2: [5.8 5.6 2.4]\n",
      "Centroid 3: [4. 3. 5.]\n",
      "Centroid 4: [10.   7.4  9.4]\n"
     ]
    }
   ],
   "source": [
    "# Given data points\n",
    "points = np.array([[2,3,5], [3,4,6], [4,3,5], [5,4,6], [6,3,5], [8,7,9], [9,8,10], [10,7,9], [11,8,10], [12,7,9], [5,5,2], [6,5,2], [5,6,3], [6,6,3], [7,6,2]])\n",
    "\n",
    "# Cluster constraints\n",
    "# The constraints are defined so that the rest of the points are in the third cluster \n",
    "constraints = [3, 5, 10, 10]\n",
    "\n",
    "# Number of clusters\n",
    "k = len(constraints)\n",
    "\n",
    "clusters, centroids = k_means(points, k, constraints)\n",
    "\n",
    "for i, cluster in enumerate(clusters):\n",
    "    print(f\"Cluster {i+1}: {cluster}\")\n",
    "\n",
    "for i, centroid in enumerate(centroids):\n",
    "    print(f\"Centroid {i+1}: {centroid}\")"
   ]
  },
  {
   "cell_type": "code",
   "execution_count": null,
   "metadata": {},
   "outputs": [],
   "source": []
  },
  {
   "cell_type": "code",
   "execution_count": null,
   "metadata": {},
   "outputs": [],
   "source": []
  },
  {
   "cell_type": "code",
   "execution_count": null,
   "metadata": {},
   "outputs": [],
   "source": []
  },
  {
   "cell_type": "code",
   "execution_count": null,
   "metadata": {},
   "outputs": [],
   "source": []
  },
  {
   "cell_type": "code",
   "execution_count": null,
   "metadata": {},
   "outputs": [],
   "source": []
  },
  {
   "cell_type": "markdown",
   "metadata": {},
   "source": [
    "In this implementation, we first define the\n",
    "minowski distance function which calculates the\n",
    "Minowski distance between two points. Then, in the\n",
    "k_means function, we initialize the centroids randomly and\n",
    "assign each point to the nearest centroid, considering the\n",
    "constraints- If a cluster exceeds its constraint, we temporarily\n",
    "set its distance to infinity during assignment, and choose the\n",
    "next closest centroid-\n",
    "Finally, we update the centroids based on the assigned\n",
    "points and retum the clusters and centroids. The code then\n",
    "prints the final clusters and centroids."
   ]
  },
  {
   "cell_type": "markdown",
   "metadata": {},
   "source": []
  }
 ],
 "metadata": {
  "kernelspec": {
   "display_name": "Python 3",
   "language": "python",
   "name": "python3"
  },
  "language_info": {
   "codemirror_mode": {
    "name": "ipython",
    "version": 3
   },
   "file_extension": ".py",
   "mimetype": "text/x-python",
   "name": "python",
   "nbconvert_exporter": "python",
   "pygments_lexer": "ipython3",
   "version": "3.9.13"
  }
 },
 "nbformat": 4,
 "nbformat_minor": 2
}
